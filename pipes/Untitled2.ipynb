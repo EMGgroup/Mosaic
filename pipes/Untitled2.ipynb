{
 "cells": [
  {
   "cell_type": "code",
   "execution_count": null,
   "metadata": {},
   "outputs": [],
   "source": [
    "hmm_results=dirs_dict[\"VIRAL_DIR\"]+ \"/hmm_parsed.{sampling}.out\",\n",
    "\t\ttable=dirs_dict[\"VIRAL_DIR\"]+ \"/viral_table.{sampling}.csv\",\n",
    "\t\thigh_dir=(dirs_dict[\"VIRAL_DIR\"]+ \"/high_confidence_vContact.{sampling}/genome_by_genome_overview.csv\"),\n",
    "\t\tlow_dir=(dirs_dict[\"VIRAL_DIR\"]+ \"/low_confidence_vContact.{sampling}/genome_by_genome_overview.csv\"),"
   ]
  }
 ],
 "metadata": {
  "kernelspec": {
   "display_name": "Python 3",
   "language": "python",
   "name": "python3"
  },
  "language_info": {
   "codemirror_mode": {
    "name": "ipython",
    "version": 3
   },
   "file_extension": ".py",
   "mimetype": "text/x-python",
   "name": "python",
   "nbconvert_exporter": "python",
   "pygments_lexer": "ipython3",
   "version": "3.6.5"
  }
 },
 "nbformat": 4,
 "nbformat_minor": 2
}
